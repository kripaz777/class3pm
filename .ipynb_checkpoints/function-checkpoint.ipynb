{
 "cells": [
  {
   "cell_type": "code",
   "execution_count": 1,
   "metadata": {},
   "outputs": [],
   "source": [
    "# def <function_name>():\n",
    "#     <operation>\n",
    "    \n",
    "# <function_name>()"
   ]
  },
  {
   "cell_type": "code",
   "execution_count": 2,
   "metadata": {},
   "outputs": [],
   "source": [
    "# print()\n",
    "# int()\n",
    "# str()\n",
    "# float()\n",
    "# type()"
   ]
  },
  {
   "cell_type": "code",
   "execution_count": 6,
   "metadata": {},
   "outputs": [
    {
     "name": "stdout",
     "output_type": "stream",
     "text": [
      "Hello World\n",
      "Hello World\n"
     ]
    }
   ],
   "source": [
    "# user defined\n",
    "def hello():\n",
    "    print(\"Hello World\")\n",
    "    \n",
    "hello()\n",
    "hello()"
   ]
  },
  {
   "cell_type": "code",
   "execution_count": 8,
   "metadata": {},
   "outputs": [
    {
     "name": "stdout",
     "output_type": "stream",
     "text": [
      "Enter l = 100\n",
      "Enter b = 23\n",
      "Enter h = 23\n",
      "52900\n"
     ]
    }
   ],
   "source": [
    "def cal():\n",
    "    l = int(input(\"Enter l = \"))    #local variable\n",
    "    b = int(input(\"Enter b = \"))\n",
    "    h = int(input(\"Enter h = \"))\n",
    "    v = l*b*h\n",
    "    print(v)\n",
    "\n",
    "cal()"
   ]
  },
  {
   "cell_type": "code",
   "execution_count": null,
   "metadata": {},
   "outputs": [],
   "source": [
    "l = int(input(\"Enter l = \"))    #global variable\n",
    "b = int(input(\"Enter b = \"))\n",
    "h = int(input(\"Enter h = \"))\n",
    "def cal():\n",
    "    v = l*b*h\n",
    "    print(v)\n",
    "\n",
    "cal()"
   ]
  },
  {
   "cell_type": "code",
   "execution_count": 10,
   "metadata": {},
   "outputs": [
    {
     "name": "stdout",
     "output_type": "stream",
     "text": [
      "Enter l = 100\n",
      "Enter b = 23\n",
      "Enter h = 23\n",
      "52900\n",
      "100\n"
     ]
    }
   ],
   "source": [
    "def cal():\n",
    "    global l\n",
    "    l = int(input(\"Enter l = \"))    #local variable\n",
    "    b = int(input(\"Enter b = \"))\n",
    "    h = int(input(\"Enter h = \"))\n",
    "    v = l*b*h\n",
    "    print(v)\n",
    "\n",
    "cal()\n",
    "print(l)"
   ]
  },
  {
   "cell_type": "code",
   "execution_count": null,
   "metadata": {},
   "outputs": [],
   "source": [
    "x = int(input(\"Enter 1 for area 2 for volume = \"))\n",
    "if x ==1:\n",
    "    l = int(input(\"Enter l = \"))    #local variable\n",
    "    b = int(input(\"Enter b = \"))\n",
    "    a = l*b\n",
    "    print(\"The area is = \",a)\n",
    "elif x == 2:\n",
    "    l = int(input(\"Enter l = \"))    #local variable\n",
    "    b = int(input(\"Enter b = \"))\n",
    "    h = int(input(\"Enter h = \"))\n",
    "    v = l*b*h\n",
    "    print(v)\n",
    "\n",
    "\n",
    "\n"
   ]
  },
  {
   "cell_type": "code",
   "execution_count": 11,
   "metadata": {},
   "outputs": [
    {
     "name": "stdout",
     "output_type": "stream",
     "text": [
      "Enter 1 for area 2 for volume = 1\n",
      "Enter l = 132\n",
      "Enter b = 43\n",
      "The area is =  5676\n"
     ]
    }
   ],
   "source": [
    "def area():\n",
    "    l = int(input(\"Enter l = \"))    #local variable\n",
    "    b = int(input(\"Enter b = \"))\n",
    "    a = l*b\n",
    "    print(\"The area is = \",a)\n",
    "def volume():\n",
    "    l = int(input(\"Enter l = \"))    #local variable\n",
    "    b = int(input(\"Enter b = \"))\n",
    "    h = int(input(\"Enter h = \"))\n",
    "    v = l*b*h\n",
    "    \n",
    "    \n",
    "x = int(input(\"Enter 1 for area 2 for volume = \"))\n",
    "if x ==1:\n",
    "    area()\n",
    "elif x == 2:\n",
    "    volume()\n",
    "    \n",
    "else:\n",
    "    print(\"Invalid number\")\n",
    "\n",
    "\n"
   ]
  },
  {
   "cell_type": "code",
   "execution_count": null,
   "metadata": {},
   "outputs": [],
   "source": [
    "def area():\n",
    "    a = l*b\n",
    "    print(\"The area is = \",a)\n",
    "    \n",
    "def volume():\n",
    "    h = int(input(\"Enter h = \"))\n",
    "    v = l*b*h\n",
    "    \n",
    "    \n",
    "x = int(input(\"Enter 1 for area 2 for volume = \"))\n",
    "l = int(input(\"Enter l = \"))    #global variable\n",
    "b = int(input(\"Enter b = \"))\n",
    "\n",
    "if x ==1:\n",
    "    area()\n",
    "elif x == 2:\n",
    "    volume()\n",
    "    \n",
    "else:\n",
    "    print(\"Invalid number\")\n",
    "\n",
    "\n"
   ]
  },
  {
   "cell_type": "code",
   "execution_count": null,
   "metadata": {},
   "outputs": [],
   "source": []
  }
 ],
 "metadata": {
  "kernelspec": {
   "display_name": "Python 3 (ipykernel)",
   "language": "python",
   "name": "python3"
  },
  "language_info": {
   "codemirror_mode": {
    "name": "ipython",
    "version": 3
   },
   "file_extension": ".py",
   "mimetype": "text/x-python",
   "name": "python",
   "nbconvert_exporter": "python",
   "pygments_lexer": "ipython3",
   "version": "3.7.1"
  }
 },
 "nbformat": 4,
 "nbformat_minor": 2
}
